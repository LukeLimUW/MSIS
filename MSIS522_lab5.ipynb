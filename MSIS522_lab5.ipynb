{
  "nbformat": 4,
  "nbformat_minor": 0,
  "metadata": {
    "kernelspec": {
      "display_name": "Python 3",
      "language": "python",
      "name": "python3"
    },
    "language_info": {
      "codemirror_mode": {
        "name": "ipython",
        "version": 3
      },
      "file_extension": ".py",
      "mimetype": "text/x-python",
      "name": "python",
      "nbconvert_exporter": "python",
      "pygments_lexer": "ipython3",
      "version": "3.7.3"
    },
    "colab": {
      "name": "MSIS522-lab5.ipynb",
      "provenance": [],
      "collapsed_sections": []
    }
  },
  "cells": [
    {
      "cell_type": "code",
      "metadata": {
        "id": "oSrj9uU5EOyl",
        "colab_type": "code",
        "colab": {}
      },
      "source": [
        "# install packages\n",
        "import sys\n",
        "\n",
        "!pip install scikit-surprise"
      ],
      "execution_count": 0,
      "outputs": []
    },
    {
      "cell_type": "markdown",
      "metadata": {
        "id": "D1VX1bQCEOyq",
        "colab_type": "text"
      },
      "source": [
        "# Recommendation System\n",
        "\n",
        "In this lab, we will use a python package named [Surprise](http://surpriselib.com/), which is an easy-to-use Python scikit for recommendation systems. It includes several commonly used algorithms, including [collaborative filtering](https://surprise.readthedocs.io/en/stable/knn_inspired.html) and [Matrix Factorization-based algorithms](https://surprise.readthedocs.io/en/stable/matrix_factorization.html)."
      ]
    },
    {
      "cell_type": "code",
      "metadata": {
        "scrolled": true,
        "id": "23b8CgKHEOyr",
        "colab_type": "code",
        "colab": {}
      },
      "source": [
        "from surprise.prediction_algorithms.matrix_factorization import SVD\n",
        "from surprise.prediction_algorithms.knns import KNNBasic\n",
        "from surprise.prediction_algorithms.knns import KNNWithMeans\n",
        "from surprise.prediction_algorithms.knns import KNNBaseline\n",
        "from surprise import Dataset\n",
        "from surprise import accuracy\n",
        "from surprise.model_selection import cross_validate\n",
        "from surprise.model_selection import train_test_split\n",
        "from surprise.model_selection import GridSearchCV"
      ],
      "execution_count": 0,
      "outputs": []
    },
    {
      "cell_type": "markdown",
      "metadata": {
        "id": "I5uB2R2rEOyv",
        "colab_type": "text"
      },
      "source": [
        "## Load data from package surprise \n",
        "\n",
        "First, we can download the dataset included in package surprise. The data will be saved in the .surprise_data folder in your home directory."
      ]
    },
    {
      "cell_type": "code",
      "metadata": {
        "id": "yQt1dHppEOyw",
        "colab_type": "code",
        "colab": {}
      },
      "source": [
        "# Load the movielens-100k dataset (download it if needed),\n",
        "data = Dataset.load_builtin('ml-100k')\n",
        "\n",
        "# sample random trainset and testset where test set is made of 20% of the ratings.\n",
        "trainset, testset = train_test_split(data, test_size=.20)"
      ],
      "execution_count": 0,
      "outputs": []
    },
    {
      "cell_type": "markdown",
      "metadata": {
        "id": "1t8Xw6YyEOyz",
        "colab_type": "text"
      },
      "source": [
        "## Collaborative Filtering\n",
        "\n",
        "First, we will apply three different flavors of collaborative filtering to this data."
      ]
    },
    {
      "cell_type": "markdown",
      "metadata": {
        "id": "WWzJBfmFEOyz",
        "colab_type": "text"
      },
      "source": [
        "### The basic collaborative filtering algorithm"
      ]
    },
    {
      "cell_type": "code",
      "metadata": {
        "scrolled": true,
        "id": "k9siDMusEOy0",
        "colab_type": "code",
        "colab": {}
      },
      "source": [
        "# Use the basic collaborative filtering algorithm. \n",
        "# See https://surprise.readthedocs.io/en/stable/knn_inspired.html for more details.\n",
        "cf = None #TODO\n",
        "\n",
        "# Train the algorithm on the trainset, and predict ratings for the testset\n",
        "predictions = None #TODO\n",
        "\n",
        "# Then compute RMSE\n",
        "accuracy.rmse(predictions)\n",
        "accuracy.mae(predictions)"
      ],
      "execution_count": 0,
      "outputs": []
    },
    {
      "cell_type": "markdown",
      "metadata": {
        "id": "T4hhOzNbEOy3",
        "colab_type": "text"
      },
      "source": [
        "### The basic collaborative filtering algorithm with user mean ratings"
      ]
    },
    {
      "cell_type": "code",
      "metadata": {
        "id": "l0eCQTaTEOy4",
        "colab_type": "code",
        "colab": {}
      },
      "source": [
        "# Use the basic collaborative filtering algorithm, taking into account the mean ratings of each user.\n",
        "# See https://surprise.readthedocs.io/en/stable/knn_inspired.html for more details.\n",
        "cf_mean = None #TODO\n",
        "\n",
        "# Train the algorithm on the trainset, and predict ratings for the testset\n",
        "predictions = None #TODO\n",
        "\n",
        "# Then compute RMSE\n",
        "accuracy.rmse(predictions)\n",
        "accuracy.mae(predictions)"
      ],
      "execution_count": 0,
      "outputs": []
    },
    {
      "cell_type": "markdown",
      "metadata": {
        "id": "1YcAoL1TEOy7",
        "colab_type": "text"
      },
      "source": [
        "## Matrix Factorization\n",
        "\n",
        "Then, we will apply the matrix factorization to this data."
      ]
    },
    {
      "cell_type": "code",
      "metadata": {
        "scrolled": true,
        "id": "wPb-e_k7EOy8",
        "colab_type": "code",
        "colab": {}
      },
      "source": [
        "# We'll use the famous SVD algorithm.\n",
        "svd = None #TODO\n",
        "\n",
        "# Train the algorithm on the trainset, and predict ratings for the testset\n",
        "predictions = None #TODO\n",
        "\n",
        "# Then compute RMSE\n",
        "accuracy.rmse(predictions)\n",
        "accuracy.mae(predictions)"
      ],
      "execution_count": 0,
      "outputs": []
    },
    {
      "cell_type": "markdown",
      "metadata": {
        "id": "CselTyVxEOy_",
        "colab_type": "text"
      },
      "source": [
        "# End of Lab: Recommendation System"
      ]
    }
  ]
}